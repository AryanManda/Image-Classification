{
 "cells": [
  {
   "cell_type": "code",
   "execution_count": 7,
   "id": "24490e8a-1cc3-4398-93ff-831576f9743d",
   "metadata": {},
   "outputs": [
    {
     "name": "stdout",
     "output_type": "stream",
     "text": [
      "Defaulting to user installation because normal site-packages is not writeable\n",
      "Requirement already satisfied: tensorflow in c:\\users\\aryan\\appdata\\roaming\\python\\python311\\site-packages (2.19.0)\n",
      "Requirement already satisfied: opencv-python in c:\\users\\aryan\\appdata\\roaming\\python\\python311\\site-packages (4.11.0.86)\n",
      "Requirement already satisfied: matplotlib in c:\\users\\aryan\\appdata\\roaming\\python\\python311\\site-packages (3.10.3)\n",
      "Requirement already satisfied: absl-py>=1.0.0 in c:\\users\\aryan\\appdata\\roaming\\python\\python311\\site-packages (from tensorflow) (2.2.2)\n",
      "Requirement already satisfied: astunparse>=1.6.0 in c:\\users\\aryan\\appdata\\roaming\\python\\python311\\site-packages (from tensorflow) (1.6.3)\n",
      "Requirement already satisfied: flatbuffers>=24.3.25 in c:\\users\\aryan\\appdata\\roaming\\python\\python311\\site-packages (from tensorflow) (25.2.10)\n",
      "Requirement already satisfied: gast!=0.5.0,!=0.5.1,!=0.5.2,>=0.2.1 in c:\\users\\aryan\\appdata\\roaming\\python\\python311\\site-packages (from tensorflow) (0.6.0)\n",
      "Requirement already satisfied: google-pasta>=0.1.1 in c:\\users\\aryan\\appdata\\roaming\\python\\python311\\site-packages (from tensorflow) (0.2.0)\n",
      "Requirement already satisfied: libclang>=13.0.0 in c:\\users\\aryan\\appdata\\roaming\\python\\python311\\site-packages (from tensorflow) (18.1.1)\n",
      "Requirement already satisfied: opt-einsum>=2.3.2 in c:\\users\\aryan\\appdata\\roaming\\python\\python311\\site-packages (from tensorflow) (3.4.0)\n",
      "Requirement already satisfied: packaging in c:\\users\\aryan\\appdata\\roaming\\python\\python311\\site-packages (from tensorflow) (25.0)\n",
      "Requirement already satisfied: protobuf!=4.21.0,!=4.21.1,!=4.21.2,!=4.21.3,!=4.21.4,!=4.21.5,<6.0.0dev,>=3.20.3 in c:\\users\\aryan\\appdata\\roaming\\python\\python311\\site-packages (from tensorflow) (5.29.4)\n",
      "Requirement already satisfied: requests<3,>=2.21.0 in c:\\users\\aryan\\appdata\\roaming\\python\\python311\\site-packages (from tensorflow) (2.32.3)\n",
      "Requirement already satisfied: setuptools in c:\\program files\\python311\\lib\\site-packages (from tensorflow) (65.5.0)\n",
      "Requirement already satisfied: six>=1.12.0 in c:\\users\\aryan\\appdata\\roaming\\python\\python311\\site-packages (from tensorflow) (1.17.0)\n",
      "Requirement already satisfied: termcolor>=1.1.0 in c:\\users\\aryan\\appdata\\roaming\\python\\python311\\site-packages (from tensorflow) (3.1.0)\n",
      "Requirement already satisfied: typing-extensions>=3.6.6 in c:\\users\\aryan\\appdata\\roaming\\python\\python311\\site-packages (from tensorflow) (4.13.2)\n",
      "Requirement already satisfied: wrapt>=1.11.0 in c:\\users\\aryan\\appdata\\roaming\\python\\python311\\site-packages (from tensorflow) (1.17.2)\n",
      "Requirement already satisfied: grpcio<2.0,>=1.24.3 in c:\\users\\aryan\\appdata\\roaming\\python\\python311\\site-packages (from tensorflow) (1.71.0)\n",
      "Requirement already satisfied: tensorboard~=2.19.0 in c:\\users\\aryan\\appdata\\roaming\\python\\python311\\site-packages (from tensorflow) (2.19.0)\n",
      "Requirement already satisfied: keras>=3.5.0 in c:\\users\\aryan\\appdata\\roaming\\python\\python311\\site-packages (from tensorflow) (3.10.0)\n",
      "Requirement already satisfied: numpy<2.2.0,>=1.26.0 in c:\\users\\aryan\\appdata\\roaming\\python\\python311\\site-packages (from tensorflow) (2.1.3)\n",
      "Requirement already satisfied: h5py>=3.11.0 in c:\\users\\aryan\\appdata\\roaming\\python\\python311\\site-packages (from tensorflow) (3.13.0)\n",
      "Requirement already satisfied: ml-dtypes<1.0.0,>=0.5.1 in c:\\users\\aryan\\appdata\\roaming\\python\\python311\\site-packages (from tensorflow) (0.5.1)\n",
      "Requirement already satisfied: tensorflow-io-gcs-filesystem>=0.23.1 in c:\\users\\aryan\\appdata\\roaming\\python\\python311\\site-packages (from tensorflow) (0.31.0)\n",
      "Requirement already satisfied: contourpy>=1.0.1 in c:\\users\\aryan\\appdata\\roaming\\python\\python311\\site-packages (from matplotlib) (1.3.2)\n",
      "Requirement already satisfied: cycler>=0.10 in c:\\users\\aryan\\appdata\\roaming\\python\\python311\\site-packages (from matplotlib) (0.12.1)\n",
      "Requirement already satisfied: fonttools>=4.22.0 in c:\\users\\aryan\\appdata\\roaming\\python\\python311\\site-packages (from matplotlib) (4.58.0)\n",
      "Requirement already satisfied: kiwisolver>=1.3.1 in c:\\users\\aryan\\appdata\\roaming\\python\\python311\\site-packages (from matplotlib) (1.4.8)\n",
      "Requirement already satisfied: pillow>=8 in c:\\users\\aryan\\appdata\\roaming\\python\\python311\\site-packages (from matplotlib) (11.2.1)\n",
      "Requirement already satisfied: pyparsing>=2.3.1 in c:\\users\\aryan\\appdata\\roaming\\python\\python311\\site-packages (from matplotlib) (3.2.3)\n",
      "Requirement already satisfied: python-dateutil>=2.7 in c:\\users\\aryan\\appdata\\roaming\\python\\python311\\site-packages (from matplotlib) (2.9.0.post0)\n",
      "Requirement already satisfied: wheel<1.0,>=0.23.0 in c:\\users\\aryan\\appdata\\roaming\\python\\python311\\site-packages (from astunparse>=1.6.0->tensorflow) (0.45.1)\n",
      "Requirement already satisfied: rich in c:\\users\\aryan\\appdata\\roaming\\python\\python311\\site-packages (from keras>=3.5.0->tensorflow) (14.0.0)\n",
      "Requirement already satisfied: namex in c:\\users\\aryan\\appdata\\roaming\\python\\python311\\site-packages (from keras>=3.5.0->tensorflow) (0.0.9)\n",
      "Requirement already satisfied: optree in c:\\users\\aryan\\appdata\\roaming\\python\\python311\\site-packages (from keras>=3.5.0->tensorflow) (0.15.0)\n",
      "Requirement already satisfied: charset-normalizer<4,>=2 in c:\\users\\aryan\\appdata\\roaming\\python\\python311\\site-packages (from requests<3,>=2.21.0->tensorflow) (3.4.2)\n",
      "Requirement already satisfied: idna<4,>=2.5 in c:\\users\\aryan\\appdata\\roaming\\python\\python311\\site-packages (from requests<3,>=2.21.0->tensorflow) (3.10)\n",
      "Requirement already satisfied: urllib3<3,>=1.21.1 in c:\\users\\aryan\\appdata\\roaming\\python\\python311\\site-packages (from requests<3,>=2.21.0->tensorflow) (2.4.0)\n",
      "Requirement already satisfied: certifi>=2017.4.17 in c:\\users\\aryan\\appdata\\roaming\\python\\python311\\site-packages (from requests<3,>=2.21.0->tensorflow) (2025.4.26)\n",
      "Requirement already satisfied: markdown>=2.6.8 in c:\\users\\aryan\\appdata\\roaming\\python\\python311\\site-packages (from tensorboard~=2.19.0->tensorflow) (3.8)\n",
      "Requirement already satisfied: tensorboard-data-server<0.8.0,>=0.7.0 in c:\\users\\aryan\\appdata\\roaming\\python\\python311\\site-packages (from tensorboard~=2.19.0->tensorflow) (0.7.2)\n",
      "Requirement already satisfied: werkzeug>=1.0.1 in c:\\users\\aryan\\appdata\\roaming\\python\\python311\\site-packages (from tensorboard~=2.19.0->tensorflow) (3.1.3)\n",
      "Requirement already satisfied: MarkupSafe>=2.1.1 in c:\\users\\aryan\\appdata\\roaming\\python\\python311\\site-packages (from werkzeug>=1.0.1->tensorboard~=2.19.0->tensorflow) (3.0.2)\n",
      "Requirement already satisfied: markdown-it-py>=2.2.0 in c:\\users\\aryan\\appdata\\roaming\\python\\python311\\site-packages (from rich->keras>=3.5.0->tensorflow) (3.0.0)\n",
      "Requirement already satisfied: pygments<3.0.0,>=2.13.0 in c:\\users\\aryan\\appdata\\roaming\\python\\python311\\site-packages (from rich->keras>=3.5.0->tensorflow) (2.19.1)\n",
      "Requirement already satisfied: mdurl~=0.1 in c:\\users\\aryan\\appdata\\roaming\\python\\python311\\site-packages (from markdown-it-py>=2.2.0->rich->keras>=3.5.0->tensorflow) (0.1.2)\n"
     ]
    },
    {
     "name": "stderr",
     "output_type": "stream",
     "text": [
      "\n",
      "[notice] A new release of pip available: 22.3 -> 25.1.1\n",
      "[notice] To update, run: python.exe -m pip install --upgrade pip\n"
     ]
    }
   ],
   "source": [
    "!pip install tensorflow opencv-python matplotlib"
   ]
  },
  {
   "cell_type": "code",
   "execution_count": 8,
   "id": "45e989eb-2996-49c8-9654-5aeb0722ae1f",
   "metadata": {
    "scrolled": true
   },
   "outputs": [
    {
     "name": "stdout",
     "output_type": "stream",
     "text": [
      "Package                      Version\n",
      "---------------------------- --------------\n",
      "absl-py                      2.2.2\n",
      "anyio                        4.9.0\n",
      "argon2-cffi                  23.1.0\n",
      "argon2-cffi-bindings         21.2.0\n",
      "arrow                        1.3.0\n",
      "asttokens                    3.0.0\n",
      "astunparse                   1.6.3\n",
      "async-lru                    2.0.5\n",
      "attrs                        25.3.0\n",
      "babel                        2.17.0\n",
      "beautifulsoup4               4.13.4\n",
      "bleach                       6.2.0\n",
      "certifi                      2025.4.26\n",
      "cffi                         1.17.1\n",
      "charset-normalizer           3.4.2\n",
      "colorama                     0.4.6\n",
      "comm                         0.2.2\n",
      "contourpy                    1.3.2\n",
      "cycler                       0.12.1\n",
      "debugpy                      1.8.14\n",
      "decorator                    5.2.1\n",
      "defusedxml                   0.7.1\n",
      "executing                    2.2.0\n",
      "fastjsonschema               2.21.1\n",
      "flatbuffers                  25.2.10\n",
      "fonttools                    4.58.0\n",
      "fqdn                         1.5.1\n",
      "gast                         0.6.0\n",
      "google-pasta                 0.2.0\n",
      "grpcio                       1.71.0\n",
      "h11                          0.16.0\n",
      "h5py                         3.13.0\n",
      "httpcore                     1.0.9\n",
      "httpx                        0.28.1\n",
      "idna                         3.10\n",
      "ipykernel                    6.29.5\n",
      "ipython                      9.2.0\n",
      "ipython_pygments_lexers      1.1.1\n",
      "isoduration                  20.11.0\n",
      "jedi                         0.19.2\n",
      "Jinja2                       3.1.6\n",
      "json5                        0.12.0\n",
      "jsonpointer                  3.0.0\n",
      "jsonschema                   4.23.0\n",
      "jsonschema-specifications    2025.4.1\n",
      "jupyter_client               8.6.3\n",
      "jupyter_core                 5.7.2\n",
      "jupyter-events               0.12.0\n",
      "jupyter-lsp                  2.2.5\n",
      "jupyter_server               2.16.0\n",
      "jupyter_server_terminals     0.5.3\n",
      "jupyterlab                   4.4.2\n",
      "jupyterlab_pygments          0.3.0\n",
      "jupyterlab_server            2.27.3\n",
      "keras                        3.10.0\n",
      "kiwisolver                   1.4.8\n",
      "libclang                     18.1.1\n",
      "Markdown                     3.8\n",
      "markdown-it-py               3.0.0\n",
      "MarkupSafe                   3.0.2\n",
      "matplotlib                   3.10.3\n",
      "matplotlib-inline            0.1.7\n",
      "mdurl                        0.1.2\n",
      "mistune                      3.1.3\n",
      "ml_dtypes                    0.5.1\n",
      "namex                        0.0.9\n",
      "nbclient                     0.10.2\n",
      "nbconvert                    7.16.6\n",
      "nbformat                     5.10.4\n",
      "nest-asyncio                 1.6.0\n",
      "notebook                     7.4.2\n",
      "notebook_shim                0.2.4\n",
      "numpy                        2.1.3\n",
      "opencv-python                4.11.0.86\n",
      "opt_einsum                   3.4.0\n",
      "optree                       0.15.0\n",
      "overrides                    7.7.0\n",
      "packaging                    25.0\n",
      "pandocfilters                1.5.1\n",
      "parso                        0.8.4\n",
      "pillow                       11.2.1\n",
      "pip                          22.3\n",
      "platformdirs                 4.3.8\n",
      "prometheus_client            0.22.0\n",
      "prompt_toolkit               3.0.51\n",
      "protobuf                     5.29.4\n",
      "psutil                       7.0.0\n",
      "pure_eval                    0.2.3\n",
      "pycparser                    2.22\n",
      "Pygments                     2.19.1\n",
      "pyparsing                    3.2.3\n",
      "python-dateutil              2.9.0.post0\n",
      "python-json-logger           3.3.0\n",
      "python-version               0.0.2\n",
      "pywin32                      310\n",
      "pywinpty                     2.0.15\n",
      "PyYAML                       6.0.2\n",
      "pyzmq                        26.4.0\n",
      "referencing                  0.36.2\n",
      "requests                     2.32.3\n",
      "rfc3339-validator            0.1.4\n",
      "rfc3986-validator            0.1.1\n",
      "rich                         14.0.0\n",
      "rpds-py                      0.25.1\n",
      "Send2Trash                   1.8.3\n",
      "setuptools                   65.5.0\n",
      "six                          1.17.0\n",
      "sniffio                      1.3.1\n",
      "soupsieve                    2.7\n",
      "stack-data                   0.6.3\n",
      "tensorboard                  2.19.0\n",
      "tensorboard-data-server      0.7.2\n",
      "tensorflow                   2.19.0\n",
      "tensorflow-io-gcs-filesystem 0.31.0\n",
      "termcolor                    3.1.0\n",
      "terminado                    0.18.1\n",
      "tinycss2                     1.4.0\n",
      "tornado                      6.5\n",
      "traitlets                    5.14.3\n",
      "types-python-dateutil        2.9.0.20250516\n",
      "typing_extensions            4.13.2\n",
      "uri-template                 1.3.0\n",
      "urllib3                      2.4.0\n",
      "wcwidth                      0.2.13\n",
      "webcolors                    24.11.1\n",
      "webencodings                 0.5.1\n",
      "websocket-client             1.8.0\n",
      "Werkzeug                     3.1.3\n",
      "wheel                        0.45.1\n",
      "wrapt                        1.17.2\n"
     ]
    },
    {
     "name": "stderr",
     "output_type": "stream",
     "text": [
      "\n",
      "[notice] A new release of pip available: 22.3 -> 25.1.1\n",
      "[notice] To update, run: python.exe -m pip install --upgrade pip\n"
     ]
    }
   ],
   "source": [
    "!pip list"
   ]
  },
  {
   "cell_type": "code",
   "execution_count": 9,
   "id": "e73d7484-7ec1-4ce8-946c-4d19e373e34b",
   "metadata": {},
   "outputs": [],
   "source": [
    "import tensorflow as tf\n",
    "import os "
   ]
  },
  {
   "cell_type": "code",
   "execution_count": null,
   "id": "ce9db6c1-33ea-4018-9217-6ec24cee6e95",
   "metadata": {},
   "outputs": [],
   "source": [
    "gpus = tf.config.experimental.list_physical_devices('GPU')"
   ]
  },
  {
   "cell_type": "code",
   "execution_count": 13,
   "id": "b2683a4d-33a9-4a1b-ad5c-3486883a91ef",
   "metadata": {},
   "outputs": [
    {
     "data": {
      "text/plain": [
       "0"
      ]
     },
     "execution_count": 13,
     "metadata": {},
     "output_type": "execute_result"
    }
   ],
   "source": [
    "len(gpus)"
   ]
  },
  {
   "cell_type": "code",
   "execution_count": 14,
   "id": "de8f4581-1bc5-4d0b-a295-b867ef98464c",
   "metadata": {},
   "outputs": [],
   "source": [
    "gpus = tf.config.experimental.list_physical_devices('GPU')\n",
    "for gpu in gpus:\n",
    "    tf.config.experimantal.set_memory_growth(gpu, True)"
   ]
  },
  {
   "cell_type": "code",
   "execution_count": 37,
   "id": "67bfe0c5-ea72-4a3f-b25e-5666e3d30acf",
   "metadata": {},
   "outputs": [],
   "source": [
    "import cv2\n",
    "import imghdr"
   ]
  },
  {
   "cell_type": "code",
   "execution_count": 38,
   "id": "bb148090-39e2-4e2d-904c-eb1b2a9238bf",
   "metadata": {},
   "outputs": [],
   "source": [
    "data_dir = 'data'"
   ]
  },
  {
   "cell_type": "code",
   "execution_count": 39,
   "id": "2e6c44b0-77b6-4cd5-a258-9cca480bff21",
   "metadata": {},
   "outputs": [
    {
     "data": {
      "text/plain": [
       "['happyppl', 'sadppl']"
      ]
     },
     "execution_count": 39,
     "metadata": {},
     "output_type": "execute_result"
    }
   ],
   "source": [
    "os.listdir(data_dir)"
   ]
  },
  {
   "cell_type": "code",
   "execution_count": 40,
   "id": "6828e187-248a-40e2-bc63-6fddfe41e3d5",
   "metadata": {},
   "outputs": [],
   "source": [
    "image_exts = ['jpeg','jpg','bmp','png']"
   ]
  },
  {
   "cell_type": "code",
   "execution_count": 41,
   "id": "05827a63-5cc0-4d17-a9ee-6e9624219e9a",
   "metadata": {},
   "outputs": [
    {
     "data": {
      "text/plain": [
       "['jpeg', 'jpg', 'bmp', 'png']"
      ]
     },
     "execution_count": 41,
     "metadata": {},
     "output_type": "execute_result"
    }
   ],
   "source": [
    "image_exts"
   ]
  },
  {
   "cell_type": "code",
   "execution_count": 42,
   "id": "816dfc84-268e-4934-a553-25b2e5c95daa",
   "metadata": {},
   "outputs": [],
   "source": [
    "img = cv2.imread(os.path.join('data', 'happy','89ca5d41335b4f9207b9cf03538a7dbd63497e474912837562cb9f58809a.png'))"
   ]
  },
  {
   "cell_type": "code",
   "execution_count": 43,
   "id": "b1d101d7-a9b8-4a19-8b12-c5aeeadc1476",
   "metadata": {},
   "outputs": [
    {
     "ename": "AttributeError",
     "evalue": "'NoneType' object has no attribute 'shape'",
     "output_type": "error",
     "traceback": [
      "\u001b[31m---------------------------------------------------------------------------\u001b[39m",
      "\u001b[31mAttributeError\u001b[39m                            Traceback (most recent call last)",
      "\u001b[36mCell\u001b[39m\u001b[36m \u001b[39m\u001b[32mIn[43]\u001b[39m\u001b[32m, line 1\u001b[39m\n\u001b[32m----> \u001b[39m\u001b[32m1\u001b[39m \u001b[43mimg\u001b[49m\u001b[43m.\u001b[49m\u001b[43mshape\u001b[49m\n",
      "\u001b[31mAttributeError\u001b[39m: 'NoneType' object has no attribute 'shape'"
     ]
    }
   ],
   "source": [
    "img.shape"
   ]
  },
  {
   "cell_type": "code",
   "execution_count": 44,
   "id": "3e433d73-c7c2-42b4-ac4c-06f6dc95fa3b",
   "metadata": {},
   "outputs": [],
   "source": [
    "for image_class in os.listdir(data_dir):\n",
    "    for image in os.listdir(os.path.join(data_dir, image_class)):\n",
    "        image_path = os.path.join(data_dir, image_class, image)\n",
    "        try:\n",
    "            img = cv2.imread(image_path)\n",
    "            tip = imghdr.what(image_path)\n",
    "            if tip not in image_exts:\n",
    "                print('Image not it ext list {}'.format(image_path))\n",
    "                os.remove(image_path)\n",
    "        except Exception as e:\n",
    "            print('Issue with image {}'.format(image_path))"
   ]
  },
  {
   "cell_type": "code",
   "execution_count": null,
   "id": "ae1dcd8c-ebdd-41fd-93bb-09ddd804b6e3",
   "metadata": {},
   "outputs": [],
   "source": []
  },
  {
   "cell_type": "code",
   "execution_count": null,
   "id": "6c2c1b87-4853-4391-9b18-b02c65c108c0",
   "metadata": {
    "editable": true,
    "slideshow": {
     "slide_type": ""
    },
    "tags": []
   },
   "outputs": [],
   "source": []
  }
 ],
 "metadata": {
  "kernelspec": {
   "display_name": "Python 3 (ipykernel)",
   "language": "python",
   "name": "python3"
  },
  "language_info": {
   "codemirror_mode": {
    "name": "ipython",
    "version": 3
   },
   "file_extension": ".py",
   "mimetype": "text/x-python",
   "name": "python",
   "nbconvert_exporter": "python",
   "pygments_lexer": "ipython3",
   "version": "3.11.0"
  }
 },
 "nbformat": 4,
 "nbformat_minor": 5
}
